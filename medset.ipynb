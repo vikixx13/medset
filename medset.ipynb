{
  "nbformat": 4,
  "nbformat_minor": 0,
  "metadata": {
    "colab": {
      "provenance": [],
      "authorship_tag": "ABX9TyPYO8E0FIUt6dpGm0EqV00A",
      "include_colab_link": true
    },
    "kernelspec": {
      "name": "python3",
      "display_name": "Python 3"
    },
    "language_info": {
      "name": "python"
    }
  },
  "cells": [
    {
      "cell_type": "markdown",
      "metadata": {
        "id": "view-in-github",
        "colab_type": "text"
      },
      "source": [
        "<a href=\"https://colab.research.google.com/github/vikixx13/medset/blob/main/medset.ipynb\" target=\"_parent\"><img src=\"https://colab.research.google.com/assets/colab-badge.svg\" alt=\"Open In Colab\"/></a>"
      ]
    },
    {
      "cell_type": "markdown",
      "source": [
        "import libs"
      ],
      "metadata": {
        "id": "0NkbbRDcHOPz"
      }
    },
    {
      "cell_type": "code",
      "source": [
        "import pandas as pd\n",
        "import seaborn as sn\n",
        "import matplotlib.pyplot as plt\n",
        "import numpy as np\n",
        "from sklearn.model_selection import train_test_split\n",
        "from sklearn.linear_model import LogisticRegression\n",
        "from sklearn.metrics import accuracy_score"
      ],
      "metadata": {
        "id": "6myB8SwOJEd3"
      },
      "execution_count": null,
      "outputs": []
    },
    {
      "cell_type": "markdown",
      "source": [
        "check data size and vals"
      ],
      "metadata": {
        "id": "4i14WmAA2ZWb"
      }
    },
    {
      "cell_type": "code",
      "source": [
        "df=pd.read_excel('/Untitled spreadsheet.xlsx')"
      ],
      "metadata": {
        "id": "at_7Kt_z223Z"
      },
      "execution_count": null,
      "outputs": []
    },
    {
      "cell_type": "code",
      "source": [
        "df.columns\n",
        "df.info()"
      ],
      "metadata": {
        "colab": {
          "base_uri": "https://localhost:8080/"
        },
        "id": "q_-WFlj4JXRQ",
        "outputId": "45c0ed04-673e-45f6-f849-c012f3377b11"
      },
      "execution_count": null,
      "outputs": [
        {
          "output_type": "stream",
          "name": "stdout",
          "text": [
            "<class 'pandas.core.frame.DataFrame'>\n",
            "RangeIndex: 57 entries, 0 to 56\n",
            "Data columns (total 58 columns):\n",
            " #   Column                                                       Non-Null Count  Dtype  \n",
            "---  ------                                                       --------------  -----  \n",
            " 0   name                                                         0 non-null      float64\n",
            " 1   DOA                                                          49 non-null     object \n",
            " 2   treatment                                                    18 non-null     object \n",
            " 3   Fever (P/A)                                                  49 non-null     object \n",
            " 4   Duration of fever (days)                                     49 non-null     float64\n",
            " 5   Headache (P/A)                                               49 non-null     object \n",
            " 6   Duration of headache                                         8 non-null      float64\n",
            " 7   Myalgia (P/A)                                                49 non-null     object \n",
            " 8   Duration of myalgia                                          10 non-null     float64\n",
            " 9   Cough (P/A)                                                  49 non-null     object \n",
            " 10  Dyspnea (P/A)                                                49 non-null     object \n",
            " 11  Duration of dyspnea                                          14 non-null     object \n",
            " 12  Vomiting (P/A)                                               49 non-null     object \n",
            " 13  Duration of vomiting                                         22 non-null     float64\n",
            " 14  Clinical hematuria  (P/A)                                    49 non-null     object \n",
            " 15  Duration of hematuria                                        0 non-null      float64\n",
            " 16  Decreased urine output (Y/N)                                 49 non-null     object \n",
            " 17  Edema (P/A)                                                  49 non-null     object \n",
            " 18  Duration of edema                                            2 non-null      float64\n",
            " 19  Anorexia (P/A)                                               49 non-null     object \n",
            " 20  Nausea (P/A)                                                 49 non-null     object \n",
            " 21  Abdominal pain                                               49 non-null     object \n",
            " 22  duration of abd pain(days)                                   13 non-null     float64\n",
            " 23  Diarrhoea (P/A)                                              49 non-null     object \n",
            " 24  Other symptoms                                               49 non-null     object \n",
            " 25  Past illness (P/A)                                           49 non-null     object \n",
            " 26  Comorbidities                                                48 non-null     object \n",
            " 27  Any rodent bite/scratch/contact with rodent droppings (Y/N)  49 non-null     object \n",
            " 28  BP                                                           49 non-null     object \n",
            " 29  RR                                                           49 non-null     object \n",
            " 30  PR                                                           49 non-null     object \n",
            " 31  Temperature                                                  49 non-null     object \n",
            " 32  Crepitus/Rhonchi (P/A)                                       49 non-null     object \n",
            " 33  Petechiae (P/A)                                              49 non-null     object \n",
            " 34  Any specific renal signCough: CliniTEMP:                     49 non-null     object \n",
            " 35  WBC COUNTS                                                   49 non-null     object \n",
            " 36  Hb                                                           49 non-null     object \n",
            " 37  PCV                                                          49 non-null     object \n",
            " 38  Differential count                                           49 non-null     object \n",
            " 39  Thrombocytopenia (Y/N)                                       49 non-null     object \n",
            " 40  CRP                                                          49 non-null     object \n",
            " 41  ESR                                                          49 non-null     object \n",
            " 42  Prothrombin time                                             49 non-null     object \n",
            " 43  SGOT                                                         49 non-null     object \n",
            " 44  SGPT                                                         49 non-null     object \n",
            " 45  Bilirubin                                                    49 non-null     object \n",
            " 46  S. albumin (g%)                                              49 non-null     object \n",
            " 47  RFT                                                          49 non-null     object \n",
            " 48  S. creatinine (mg%)                                          49 non-null     object \n",
            " 49  Hematuria (P/N)                                              49 non-null     object \n",
            " 50  BACTERIAL CULTURE &  S                                       49 non-null     object \n",
            " 51  Urine culture                                                49 non-null     object \n",
            " 52  Dengue Viral Immunoassay (IgM) (Done/ND )                    49 non-null     object \n",
            " 53  Typhidot / Widal (Done/Not done)                             49 non-null     object \n",
            " 54  Scrub typhus IgM                                             49 non-null     object \n",
            " 55  Malarial parasites (Done/Not done)                           49 non-null     object \n",
            " 56  ELISA for leptospirosis (Done/Not done)                      49 non-null     object \n",
            " 57  Lepto report                                                 1 non-null      object \n",
            "dtypes: float64(8), object(50)\n",
            "memory usage: 26.0+ KB\n"
          ]
        }
      ]
    },
    {
      "cell_type": "code",
      "source": [
        "#checking size\n",
        "df.shape"
      ],
      "metadata": {
        "colab": {
          "base_uri": "https://localhost:8080/"
        },
        "id": "9WH1i6qk1eOp",
        "outputId": "b01854b7-212a-4f69-c486-0b0d18a67543"
      },
      "execution_count": null,
      "outputs": [
        {
          "output_type": "execute_result",
          "data": {
            "text/plain": [
              "(57, 58)"
            ]
          },
          "metadata": {},
          "execution_count": 11
        }
      ]
    },
    {
      "cell_type": "code",
      "source": [
        "df.isna().sum()"
      ],
      "metadata": {
        "colab": {
          "base_uri": "https://localhost:8080/"
        },
        "id": "We3PSDBf2w8V",
        "outputId": "cce68387-6ad0-4e56-80f8-374fd7e1acfd"
      },
      "execution_count": null,
      "outputs": [
        {
          "output_type": "execute_result",
          "data": {
            "text/plain": [
              "name                                                           57\n",
              "DOA                                                             8\n",
              "treatment                                                      39\n",
              "Fever (P/A)                                                     8\n",
              "Duration of fever (days)                                        8\n",
              "Headache (P/A)                                                  8\n",
              "Duration of headache                                           49\n",
              "Myalgia (P/A)                                                   8\n",
              "Duration of myalgia                                            47\n",
              "Cough (P/A)                                                     8\n",
              "Dyspnea (P/A)                                                   8\n",
              "Duration of dyspnea                                            43\n",
              "Vomiting (P/A)                                                  8\n",
              "Duration of vomiting                                           35\n",
              "Clinical hematuria  (P/A)                                       8\n",
              "Duration of hematuria                                          57\n",
              "Decreased urine output (Y/N)                                    8\n",
              "Edema (P/A)                                                     8\n",
              "Duration of edema                                              55\n",
              "Anorexia (P/A)                                                  8\n",
              "Nausea (P/A)                                                    8\n",
              "Abdominal pain                                                  8\n",
              "duration of abd pain(days)                                     44\n",
              "Diarrhoea (P/A)                                                 8\n",
              "Other symptoms                                                  8\n",
              "Past illness (P/A)                                              8\n",
              "Comorbidities                                                   9\n",
              "Any rodent bite/scratch/contact with rodent droppings (Y/N)     8\n",
              "BP                                                              8\n",
              "RR                                                              8\n",
              "PR                                                              8\n",
              "Temperature                                                     8\n",
              "Crepitus/Rhonchi (P/A)                                          8\n",
              "Petechiae (P/A)                                                 8\n",
              "Any specific renal signCough: CliniTEMP:                        8\n",
              "WBC COUNTS                                                      8\n",
              "Hb                                                              8\n",
              "PCV                                                             8\n",
              "Differential count                                              8\n",
              "Thrombocytopenia (Y/N)                                          8\n",
              "CRP                                                             8\n",
              "ESR                                                             8\n",
              "Prothrombin time                                                8\n",
              "SGOT                                                            8\n",
              "SGPT                                                            8\n",
              "Bilirubin                                                       8\n",
              "S. albumin (g%)                                                 8\n",
              "RFT                                                             8\n",
              "S. creatinine (mg%)                                             8\n",
              "Hematuria (P/N)                                                 8\n",
              "BACTERIAL CULTURE &  S                                          8\n",
              "Urine culture                                                   8\n",
              "Dengue Viral Immunoassay (IgM) (Done/ND )                       8\n",
              "Typhidot / Widal (Done/Not done)                                8\n",
              "Scrub typhus IgM                                                8\n",
              "Malarial parasites (Done/Not done)                              8\n",
              "ELISA for leptospirosis (Done/Not done)                         8\n",
              "Lepto report                                                   56\n",
              "dtype: int64"
            ]
          },
          "metadata": {},
          "execution_count": 12
        }
      ]
    },
    {
      "cell_type": "code",
      "source": [
        "#checking duplicated rows\n",
        "df.duplicated().sum()"
      ],
      "metadata": {
        "colab": {
          "base_uri": "https://localhost:8080/"
        },
        "id": "Gocy5-t_2eDx",
        "outputId": "249b573b-4f75-4ea7-92ec-300132302a59"
      },
      "execution_count": null,
      "outputs": [
        {
          "output_type": "execute_result",
          "data": {
            "text/plain": [
              "3"
            ]
          },
          "metadata": {},
          "execution_count": 13
        }
      ]
    },
    {
      "cell_type": "code",
      "source": [
        "#checking descriptive stats\n",
        "df.describe()"
      ],
      "metadata": {
        "colab": {
          "base_uri": "https://localhost:8080/",
          "height": 300
        },
        "id": "EzOWgrtl2vY2",
        "outputId": "b2d4c861-99dd-4765-984d-4e8716de1459"
      },
      "execution_count": null,
      "outputs": [
        {
          "output_type": "execute_result",
          "data": {
            "text/plain": [
              "       name  Duration of fever (days)  Duration of headache  \\\n",
              "count   0.0                 49.000000               8.00000   \n",
              "mean    NaN                  5.428571               3.25000   \n",
              "std     NaN                  2.768875               2.12132   \n",
              "min     NaN                  2.000000               1.00000   \n",
              "25%     NaN                  3.000000               2.00000   \n",
              "50%     NaN                  5.000000               2.00000   \n",
              "75%     NaN                  7.000000               5.00000   \n",
              "max     NaN                 14.000000               7.00000   \n",
              "\n",
              "       Duration of myalgia  Duration of vomiting  Duration of hematuria  \\\n",
              "count            10.000000             22.000000                    0.0   \n",
              "mean              2.100000              2.227273                    NaN   \n",
              "std               1.595131              1.823963                    NaN   \n",
              "min               1.000000              1.000000                    NaN   \n",
              "25%               1.000000              1.000000                    NaN   \n",
              "50%               1.500000              1.500000                    NaN   \n",
              "75%               2.000000              2.000000                    NaN   \n",
              "max               5.000000              7.000000                    NaN   \n",
              "\n",
              "       Duration of edema  duration of abd pain(days)  \n",
              "count            2.00000                   13.000000  \n",
              "mean             3.50000                    2.769231  \n",
              "std              2.12132                    1.640825  \n",
              "min              2.00000                    1.000000  \n",
              "25%              2.75000                    2.000000  \n",
              "50%              3.50000                    2.000000  \n",
              "75%              4.25000                    3.000000  \n",
              "max              5.00000                    7.000000  "
            ],
            "text/html": [
              "\n",
              "  <div id=\"df-f24beac3-e753-4464-8055-fb55bcb51a81\" class=\"colab-df-container\">\n",
              "    <div>\n",
              "<style scoped>\n",
              "    .dataframe tbody tr th:only-of-type {\n",
              "        vertical-align: middle;\n",
              "    }\n",
              "\n",
              "    .dataframe tbody tr th {\n",
              "        vertical-align: top;\n",
              "    }\n",
              "\n",
              "    .dataframe thead th {\n",
              "        text-align: right;\n",
              "    }\n",
              "</style>\n",
              "<table border=\"1\" class=\"dataframe\">\n",
              "  <thead>\n",
              "    <tr style=\"text-align: right;\">\n",
              "      <th></th>\n",
              "      <th>name</th>\n",
              "      <th>Duration of fever (days)</th>\n",
              "      <th>Duration of headache</th>\n",
              "      <th>Duration of myalgia</th>\n",
              "      <th>Duration of vomiting</th>\n",
              "      <th>Duration of hematuria</th>\n",
              "      <th>Duration of edema</th>\n",
              "      <th>duration of abd pain(days)</th>\n",
              "    </tr>\n",
              "  </thead>\n",
              "  <tbody>\n",
              "    <tr>\n",
              "      <th>count</th>\n",
              "      <td>0.0</td>\n",
              "      <td>49.000000</td>\n",
              "      <td>8.00000</td>\n",
              "      <td>10.000000</td>\n",
              "      <td>22.000000</td>\n",
              "      <td>0.0</td>\n",
              "      <td>2.00000</td>\n",
              "      <td>13.000000</td>\n",
              "    </tr>\n",
              "    <tr>\n",
              "      <th>mean</th>\n",
              "      <td>NaN</td>\n",
              "      <td>5.428571</td>\n",
              "      <td>3.25000</td>\n",
              "      <td>2.100000</td>\n",
              "      <td>2.227273</td>\n",
              "      <td>NaN</td>\n",
              "      <td>3.50000</td>\n",
              "      <td>2.769231</td>\n",
              "    </tr>\n",
              "    <tr>\n",
              "      <th>std</th>\n",
              "      <td>NaN</td>\n",
              "      <td>2.768875</td>\n",
              "      <td>2.12132</td>\n",
              "      <td>1.595131</td>\n",
              "      <td>1.823963</td>\n",
              "      <td>NaN</td>\n",
              "      <td>2.12132</td>\n",
              "      <td>1.640825</td>\n",
              "    </tr>\n",
              "    <tr>\n",
              "      <th>min</th>\n",
              "      <td>NaN</td>\n",
              "      <td>2.000000</td>\n",
              "      <td>1.00000</td>\n",
              "      <td>1.000000</td>\n",
              "      <td>1.000000</td>\n",
              "      <td>NaN</td>\n",
              "      <td>2.00000</td>\n",
              "      <td>1.000000</td>\n",
              "    </tr>\n",
              "    <tr>\n",
              "      <th>25%</th>\n",
              "      <td>NaN</td>\n",
              "      <td>3.000000</td>\n",
              "      <td>2.00000</td>\n",
              "      <td>1.000000</td>\n",
              "      <td>1.000000</td>\n",
              "      <td>NaN</td>\n",
              "      <td>2.75000</td>\n",
              "      <td>2.000000</td>\n",
              "    </tr>\n",
              "    <tr>\n",
              "      <th>50%</th>\n",
              "      <td>NaN</td>\n",
              "      <td>5.000000</td>\n",
              "      <td>2.00000</td>\n",
              "      <td>1.500000</td>\n",
              "      <td>1.500000</td>\n",
              "      <td>NaN</td>\n",
              "      <td>3.50000</td>\n",
              "      <td>2.000000</td>\n",
              "    </tr>\n",
              "    <tr>\n",
              "      <th>75%</th>\n",
              "      <td>NaN</td>\n",
              "      <td>7.000000</td>\n",
              "      <td>5.00000</td>\n",
              "      <td>2.000000</td>\n",
              "      <td>2.000000</td>\n",
              "      <td>NaN</td>\n",
              "      <td>4.25000</td>\n",
              "      <td>3.000000</td>\n",
              "    </tr>\n",
              "    <tr>\n",
              "      <th>max</th>\n",
              "      <td>NaN</td>\n",
              "      <td>14.000000</td>\n",
              "      <td>7.00000</td>\n",
              "      <td>5.000000</td>\n",
              "      <td>7.000000</td>\n",
              "      <td>NaN</td>\n",
              "      <td>5.00000</td>\n",
              "      <td>7.000000</td>\n",
              "    </tr>\n",
              "  </tbody>\n",
              "</table>\n",
              "</div>\n",
              "    <div class=\"colab-df-buttons\">\n",
              "\n",
              "  <div class=\"colab-df-container\">\n",
              "    <button class=\"colab-df-convert\" onclick=\"convertToInteractive('df-f24beac3-e753-4464-8055-fb55bcb51a81')\"\n",
              "            title=\"Convert this dataframe to an interactive table.\"\n",
              "            style=\"display:none;\">\n",
              "\n",
              "  <svg xmlns=\"http://www.w3.org/2000/svg\" height=\"24px\" viewBox=\"0 -960 960 960\">\n",
              "    <path d=\"M120-120v-720h720v720H120Zm60-500h600v-160H180v160Zm220 220h160v-160H400v160Zm0 220h160v-160H400v160ZM180-400h160v-160H180v160Zm440 0h160v-160H620v160ZM180-180h160v-160H180v160Zm440 0h160v-160H620v160Z\"/>\n",
              "  </svg>\n",
              "    </button>\n",
              "\n",
              "  <style>\n",
              "    .colab-df-container {\n",
              "      display:flex;\n",
              "      gap: 12px;\n",
              "    }\n",
              "\n",
              "    .colab-df-convert {\n",
              "      background-color: #E8F0FE;\n",
              "      border: none;\n",
              "      border-radius: 50%;\n",
              "      cursor: pointer;\n",
              "      display: none;\n",
              "      fill: #1967D2;\n",
              "      height: 32px;\n",
              "      padding: 0 0 0 0;\n",
              "      width: 32px;\n",
              "    }\n",
              "\n",
              "    .colab-df-convert:hover {\n",
              "      background-color: #E2EBFA;\n",
              "      box-shadow: 0px 1px 2px rgba(60, 64, 67, 0.3), 0px 1px 3px 1px rgba(60, 64, 67, 0.15);\n",
              "      fill: #174EA6;\n",
              "    }\n",
              "\n",
              "    .colab-df-buttons div {\n",
              "      margin-bottom: 4px;\n",
              "    }\n",
              "\n",
              "    [theme=dark] .colab-df-convert {\n",
              "      background-color: #3B4455;\n",
              "      fill: #D2E3FC;\n",
              "    }\n",
              "\n",
              "    [theme=dark] .colab-df-convert:hover {\n",
              "      background-color: #434B5C;\n",
              "      box-shadow: 0px 1px 3px 1px rgba(0, 0, 0, 0.15);\n",
              "      filter: drop-shadow(0px 1px 2px rgba(0, 0, 0, 0.3));\n",
              "      fill: #FFFFFF;\n",
              "    }\n",
              "  </style>\n",
              "\n",
              "    <script>\n",
              "      const buttonEl =\n",
              "        document.querySelector('#df-f24beac3-e753-4464-8055-fb55bcb51a81 button.colab-df-convert');\n",
              "      buttonEl.style.display =\n",
              "        google.colab.kernel.accessAllowed ? 'block' : 'none';\n",
              "\n",
              "      async function convertToInteractive(key) {\n",
              "        const element = document.querySelector('#df-f24beac3-e753-4464-8055-fb55bcb51a81');\n",
              "        const dataTable =\n",
              "          await google.colab.kernel.invokeFunction('convertToInteractive',\n",
              "                                                    [key], {});\n",
              "        if (!dataTable) return;\n",
              "\n",
              "        const docLinkHtml = 'Like what you see? Visit the ' +\n",
              "          '<a target=\"_blank\" href=https://colab.research.google.com/notebooks/data_table.ipynb>data table notebook</a>'\n",
              "          + ' to learn more about interactive tables.';\n",
              "        element.innerHTML = '';\n",
              "        dataTable['output_type'] = 'display_data';\n",
              "        await google.colab.output.renderOutput(dataTable, element);\n",
              "        const docLink = document.createElement('div');\n",
              "        docLink.innerHTML = docLinkHtml;\n",
              "        element.appendChild(docLink);\n",
              "      }\n",
              "    </script>\n",
              "  </div>\n",
              "\n",
              "\n",
              "<div id=\"df-a1fee41e-0939-4f37-a7e6-a570739efd50\">\n",
              "  <button class=\"colab-df-quickchart\" onclick=\"quickchart('df-a1fee41e-0939-4f37-a7e6-a570739efd50')\"\n",
              "            title=\"Suggest charts.\"\n",
              "            style=\"display:none;\">\n",
              "\n",
              "<svg xmlns=\"http://www.w3.org/2000/svg\" height=\"24px\"viewBox=\"0 0 24 24\"\n",
              "     width=\"24px\">\n",
              "    <g>\n",
              "        <path d=\"M19 3H5c-1.1 0-2 .9-2 2v14c0 1.1.9 2 2 2h14c1.1 0 2-.9 2-2V5c0-1.1-.9-2-2-2zM9 17H7v-7h2v7zm4 0h-2V7h2v10zm4 0h-2v-4h2v4z\"/>\n",
              "    </g>\n",
              "</svg>\n",
              "  </button>\n",
              "\n",
              "<style>\n",
              "  .colab-df-quickchart {\n",
              "      --bg-color: #E8F0FE;\n",
              "      --fill-color: #1967D2;\n",
              "      --hover-bg-color: #E2EBFA;\n",
              "      --hover-fill-color: #174EA6;\n",
              "      --disabled-fill-color: #AAA;\n",
              "      --disabled-bg-color: #DDD;\n",
              "  }\n",
              "\n",
              "  [theme=dark] .colab-df-quickchart {\n",
              "      --bg-color: #3B4455;\n",
              "      --fill-color: #D2E3FC;\n",
              "      --hover-bg-color: #434B5C;\n",
              "      --hover-fill-color: #FFFFFF;\n",
              "      --disabled-bg-color: #3B4455;\n",
              "      --disabled-fill-color: #666;\n",
              "  }\n",
              "\n",
              "  .colab-df-quickchart {\n",
              "    background-color: var(--bg-color);\n",
              "    border: none;\n",
              "    border-radius: 50%;\n",
              "    cursor: pointer;\n",
              "    display: none;\n",
              "    fill: var(--fill-color);\n",
              "    height: 32px;\n",
              "    padding: 0;\n",
              "    width: 32px;\n",
              "  }\n",
              "\n",
              "  .colab-df-quickchart:hover {\n",
              "    background-color: var(--hover-bg-color);\n",
              "    box-shadow: 0 1px 2px rgba(60, 64, 67, 0.3), 0 1px 3px 1px rgba(60, 64, 67, 0.15);\n",
              "    fill: var(--button-hover-fill-color);\n",
              "  }\n",
              "\n",
              "  .colab-df-quickchart-complete:disabled,\n",
              "  .colab-df-quickchart-complete:disabled:hover {\n",
              "    background-color: var(--disabled-bg-color);\n",
              "    fill: var(--disabled-fill-color);\n",
              "    box-shadow: none;\n",
              "  }\n",
              "\n",
              "  .colab-df-spinner {\n",
              "    border: 2px solid var(--fill-color);\n",
              "    border-color: transparent;\n",
              "    border-bottom-color: var(--fill-color);\n",
              "    animation:\n",
              "      spin 1s steps(1) infinite;\n",
              "  }\n",
              "\n",
              "  @keyframes spin {\n",
              "    0% {\n",
              "      border-color: transparent;\n",
              "      border-bottom-color: var(--fill-color);\n",
              "      border-left-color: var(--fill-color);\n",
              "    }\n",
              "    20% {\n",
              "      border-color: transparent;\n",
              "      border-left-color: var(--fill-color);\n",
              "      border-top-color: var(--fill-color);\n",
              "    }\n",
              "    30% {\n",
              "      border-color: transparent;\n",
              "      border-left-color: var(--fill-color);\n",
              "      border-top-color: var(--fill-color);\n",
              "      border-right-color: var(--fill-color);\n",
              "    }\n",
              "    40% {\n",
              "      border-color: transparent;\n",
              "      border-right-color: var(--fill-color);\n",
              "      border-top-color: var(--fill-color);\n",
              "    }\n",
              "    60% {\n",
              "      border-color: transparent;\n",
              "      border-right-color: var(--fill-color);\n",
              "    }\n",
              "    80% {\n",
              "      border-color: transparent;\n",
              "      border-right-color: var(--fill-color);\n",
              "      border-bottom-color: var(--fill-color);\n",
              "    }\n",
              "    90% {\n",
              "      border-color: transparent;\n",
              "      border-bottom-color: var(--fill-color);\n",
              "    }\n",
              "  }\n",
              "</style>\n",
              "\n",
              "  <script>\n",
              "    async function quickchart(key) {\n",
              "      const quickchartButtonEl =\n",
              "        document.querySelector('#' + key + ' button');\n",
              "      quickchartButtonEl.disabled = true;  // To prevent multiple clicks.\n",
              "      quickchartButtonEl.classList.add('colab-df-spinner');\n",
              "      try {\n",
              "        const charts = await google.colab.kernel.invokeFunction(\n",
              "            'suggestCharts', [key], {});\n",
              "      } catch (error) {\n",
              "        console.error('Error during call to suggestCharts:', error);\n",
              "      }\n",
              "      quickchartButtonEl.classList.remove('colab-df-spinner');\n",
              "      quickchartButtonEl.classList.add('colab-df-quickchart-complete');\n",
              "    }\n",
              "    (() => {\n",
              "      let quickchartButtonEl =\n",
              "        document.querySelector('#df-a1fee41e-0939-4f37-a7e6-a570739efd50 button');\n",
              "      quickchartButtonEl.style.display =\n",
              "        google.colab.kernel.accessAllowed ? 'block' : 'none';\n",
              "    })();\n",
              "  </script>\n",
              "</div>\n",
              "    </div>\n",
              "  </div>\n"
            ]
          },
          "metadata": {},
          "execution_count": 14
        }
      ]
    },
    {
      "cell_type": "code",
      "source": [
        "tc=df.corr()\n",
        "sn.heatmap(tc)"
      ],
      "metadata": {
        "colab": {
          "base_uri": "https://localhost:8080/",
          "height": 679
        },
        "id": "47l1aF21-Lhg",
        "outputId": "a774c381-8776-4598-f800-d545a599fdbc"
      },
      "execution_count": null,
      "outputs": [
        {
          "output_type": "stream",
          "name": "stderr",
          "text": [
            "<ipython-input-17-a93fb4c00443>:1: FutureWarning: The default value of numeric_only in DataFrame.corr is deprecated. In a future version, it will default to False. Select only valid columns or specify the value of numeric_only to silence this warning.\n",
            "  tc=df.corr()\n"
          ]
        },
        {
          "output_type": "execute_result",
          "data": {
            "text/plain": [
              "<Axes: >"
            ]
          },
          "metadata": {},
          "execution_count": 17
        },
        {
          "output_type": "display_data",
          "data": {
            "text/plain": [
              "<Figure size 640x480 with 2 Axes>"
            ],
            "image/png": "[encoded data removed]"
          },
          "metadata": {}
        }
      ]
    },
    {
      "cell_type": "code",
      "source": [],
      "metadata": {
        "id": "P3P8A1VLAVRe"
      },
      "execution_count": null,
      "outputs": []
    },
    {
      "cell_type": "markdown",
      "source": [
        "testing"
      ],
      "metadata": {
        "id": "50EH8qTIIept"
      }
    },
    {
      "cell_type": "code",
      "source": [
        "df_train, df_test =  df.randomSplit([0.825,0.175], seed = 2020)"
      ],
      "metadata": {
        "id": "dEprL-fSIflZ"
      },
      "execution_count": null,
      "outputs": []
    },
    {
      "cell_type": "code",
      "source": [
        "# Build the LogisticRegression object 'lr' by setting the required parameters\n",
        "lr = LinearRegression(featuresCol=\"features\", labelCol=\"salary_in_usd\")\n",
        "\n",
        "# fit the LogisticRegression object on the training data\n",
        "lrmodel = lr.fit(df_train)"
      ],
      "metadata": {
        "id": "qo8TjK3gIhH2"
      },
      "execution_count": null,
      "outputs": []
    },
    {
      "cell_type": "code",
      "source": [
        "#This LogisticRegressionModel can be used as a transformer to perform prediction on the testing data\n",
        "predictonDF = lrmodel.transform(df_test)\n",
        "evaluator = BinaryClassificationEvaluator()\n",
        "\n",
        "# Calculate the accracy and print its value\n",
        "accuracy = predictonDF.filter(predictonDF.label == predictonDF.prediction).count()/float(predictonDF.count())\n",
        "print(\"Accuracy = \", accuracy)\n"
      ],
      "metadata": {
        "id": "hHRlXHFXIjrU"
      },
      "execution_count": null,
      "outputs": []
    }
  ]
}